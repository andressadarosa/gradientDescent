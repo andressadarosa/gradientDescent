{
 "cells": [
  {
   "cell_type": "markdown",
   "metadata": {},
   "source": [
    "Gradiente Descendente é um algoritmo de otimização que encontra os melhores valores para os parâmetros w e B, minimizando a minha função de custo."
   ]
  },
  {
   "cell_type": "code",
   "execution_count": 57,
   "metadata": {},
   "outputs": [],
   "source": [
    "import pandas as pd\n",
    "import numpy as np\n",
    "import matplotlib.pyplot as plt\n",
    "import seaborn as sn\n",
    "\n",
    "import random\n",
    "import math\n",
    "import matplotlib.pyplot as plt\n",
    "%matplotlib inline"
   ]
  },
  {
   "cell_type": "markdown",
   "metadata": {},
   "source": [
    "Dataset do Kaggle que nos dá o total de vendas de diferentes produtos, depois de comercializá-los na Televisão, Rádio e Jornal. Usando o algoritmo podemos descobrir qual mídia tem o melhor desempenho para as vendas e atribuir pesos a todas as mídias de acordo. Link: https://www.kaggle.com/sazid28/advertising.csv"
   ]
  },
  {
   "cell_type": "code",
   "execution_count": 58,
   "metadata": {},
   "outputs": [
    {
     "data": {
      "text/html": [
       "<div>\n",
       "<style scoped>\n",
       "    .dataframe tbody tr th:only-of-type {\n",
       "        vertical-align: middle;\n",
       "    }\n",
       "\n",
       "    .dataframe tbody tr th {\n",
       "        vertical-align: top;\n",
       "    }\n",
       "\n",
       "    .dataframe thead th {\n",
       "        text-align: right;\n",
       "    }\n",
       "</style>\n",
       "<table border=\"1\" class=\"dataframe\">\n",
       "  <thead>\n",
       "    <tr style=\"text-align: right;\">\n",
       "      <th></th>\n",
       "      <th>Unnamed: 0</th>\n",
       "      <th>TV</th>\n",
       "      <th>radio</th>\n",
       "      <th>newspaper</th>\n",
       "      <th>sales</th>\n",
       "    </tr>\n",
       "  </thead>\n",
       "  <tbody>\n",
       "    <tr>\n",
       "      <th>0</th>\n",
       "      <td>1</td>\n",
       "      <td>230.1</td>\n",
       "      <td>37.8</td>\n",
       "      <td>69.2</td>\n",
       "      <td>22.1</td>\n",
       "    </tr>\n",
       "    <tr>\n",
       "      <th>1</th>\n",
       "      <td>2</td>\n",
       "      <td>44.5</td>\n",
       "      <td>39.3</td>\n",
       "      <td>45.1</td>\n",
       "      <td>10.4</td>\n",
       "    </tr>\n",
       "    <tr>\n",
       "      <th>2</th>\n",
       "      <td>3</td>\n",
       "      <td>17.2</td>\n",
       "      <td>45.9</td>\n",
       "      <td>69.3</td>\n",
       "      <td>9.3</td>\n",
       "    </tr>\n",
       "    <tr>\n",
       "      <th>3</th>\n",
       "      <td>4</td>\n",
       "      <td>151.5</td>\n",
       "      <td>41.3</td>\n",
       "      <td>58.5</td>\n",
       "      <td>18.5</td>\n",
       "    </tr>\n",
       "    <tr>\n",
       "      <th>4</th>\n",
       "      <td>5</td>\n",
       "      <td>180.8</td>\n",
       "      <td>10.8</td>\n",
       "      <td>58.4</td>\n",
       "      <td>12.9</td>\n",
       "    </tr>\n",
       "  </tbody>\n",
       "</table>\n",
       "</div>"
      ],
      "text/plain": [
       "   Unnamed: 0     TV  radio  newspaper  sales\n",
       "0           1  230.1   37.8       69.2   22.1\n",
       "1           2   44.5   39.3       45.1   10.4\n",
       "2           3   17.2   45.9       69.3    9.3\n",
       "3           4  151.5   41.3       58.5   18.5\n",
       "4           5  180.8   10.8       58.4   12.9"
      ]
     },
     "execution_count": 58,
     "metadata": {},
     "output_type": "execute_result"
    }
   ],
   "source": [
    "df = pd.read_csv('Advertising.csv')\n",
    "df.head()"
   ]
  },
  {
   "cell_type": "markdown",
   "metadata": {},
   "source": [
    "X representaria TV, Rádio e Jornal enquanto Y representaria nossas vendas. Como todas essas vendas podem estar em escalas diferentes, então normalizamos nossas variáveis ​​X e Y."
   ]
  },
  {
   "cell_type": "code",
   "execution_count": 59,
   "metadata": {},
   "outputs": [],
   "source": [
    "X = df[[\"TV\", \"radio\", \"newspaper\"]]\n",
    "Y = df[\"sales\"]\n",
    "Y = np.array((Y-Y.mean())/Y.std())\n",
    "X = X.apply(lambda rec:(rec-rec.mean())/rec.std(),axis=0)"
   ]
  },
  {
   "cell_type": "markdown",
   "metadata": {},
   "source": [
    "Algoritmo que o dataset foi \"tratado\" podemos começar a implementar o algoritmo. Para implementar o algoritmo de Gradiente Descendente é necessário seguir 4 passos:"
   ]
  },
  {
   "cell_type": "markdown",
   "metadata": {},
   "source": [
    "1. Iniciar aleatoriamente o bias e o peso.\n",
    "2. Calcular o valor de previsto de y que é dado pelo bias e o peso.\n",
    "3. Calcular a função de custo a partir dos valores previstos e reais de Y. \n",
    "4. Calcular o grandiente e os pesos. "
   ]
  },
  {
   "cell_type": "code",
   "execution_count": 60,
   "metadata": {},
   "outputs": [
    {
     "name": "stdout",
     "output_type": "stream",
     "text": [
      "Bias:  0.8621605448719112 Weights:  [0.81046388 0.35227044 0.4714903 ]\n"
     ]
    }
   ],
   "source": [
    "# calculando aleatoriamente os valores do bias e do weights\n",
    "\n",
    "def initialize(dim):\n",
    "\n",
    "    b = random.random()\n",
    "    theta = np.random.rand(dim)\n",
    "    return b,theta\n",
    "\n",
    "b, theta = initialize(3)\n",
    "print(\"Bias: \", b, \"Weights: \", theta)"
   ]
  },
  {
   "cell_type": "code",
   "execution_count": 61,
   "metadata": {},
   "outputs": [
    {
     "data": {
      "text/plain": [
       "array([ 2.82777512,  0.58955552,  1.01235313,  1.93718905,  1.48794217,\n",
       "        1.12669478,  0.09042662,  0.11149216, -1.58671623,  0.6673894 ])"
      ]
     },
     "execution_count": 61,
     "metadata": {},
     "output_type": "execute_result"
    }
   ],
   "source": [
    "# calcular o output Y usando os valores do bias e do weights que foram gerados acima\n",
    "def predict_Y(b, theta, X):\n",
    "\n",
    "    return b + np.dot(X,theta)\n",
    "\n",
    "Y_hat = predict_Y(b, theta, X)\n",
    "Y_hat[0:10]\n"
   ]
  },
  {
   "cell_type": "markdown",
   "metadata": {},
   "source": [
    "Y_hat é o valor de saída previsto enquanto Y será o valor real. A diferença entre eles nos dará a função de custo. Que será calculado na próxima função. "
   ]
  },
  {
   "cell_type": "markdown",
   "metadata": {},
   "source": [
    "Y_hat é o valor de saída previsto enquanto Y será o valor real. A diferença entre eles nos dará nossa função de custo. Que será calculada em nossa próxima função. "
   ]
  },
  {
   "cell_type": "code",
   "execution_count": 62,
   "metadata": {},
   "outputs": [
    {
     "data": {
      "text/plain": [
       "1.0480723798189358"
      ]
     },
     "execution_count": 62,
     "metadata": {},
     "output_type": "execute_result"
    }
   ],
   "source": [
    "def get_cost(Y, Y_hat):\n",
    "\n",
    "    Y_resd = Y - Y_hat\n",
    "    \n",
    "    return np.sum(np.dot(Y_resd.T, Y_resd)) / len(Y - Y_resd)\n",
    "\n",
    "Y_hat = predict_Y(b, theta, X)\n",
    "\n",
    "get_cost(Y, Y_hat)"
   ]
  },
  {
   "cell_type": "markdown",
   "metadata": {},
   "source": [
    "Essa é a nossa função de custo, e devemos reduzir ela o quanto for possível para ter uma predição mais precisas. Para atualizar o bias e o weights nós usamos a fórmula do gradiente descendente: θj = θj - α  δ/δθ J(θ0, θ1)"
   ]
  },
  {
   "cell_type": "markdown",
   "metadata": {},
   "source": [
    "Os parâmetros passados para a nossa função são:\n",
    "1. x, y: varáveis de input output\n",
    "2. y_hat: valor predito com o bias e o weight atualizados\n",
    "3. b_O, theta_O: bias e weights atuais \n",
    "4. Learning rate, para ajustar a etapa de atualização "
   ]
  },
  {
   "cell_type": "code",
   "execution_count": 63,
   "metadata": {
    "vscode": {
     "languageId": "markdown"
    }
   },
   "outputs": [
    {
     "name": "stdout",
     "output_type": "stream",
     "text": [
      "After initialization -Bias:  0.8621605448719112 theta:  [0.81046388 0.35227044 0.4714903 ]\n",
      "After first update -Bias:  0.844917333974473 theta:  [0.80898619 0.35252069 0.46325483]\n"
     ]
    },
    {
     "data": {
      "text/plain": [
       "1.0480723798189358"
      ]
     },
     "execution_count": 63,
     "metadata": {},
     "output_type": "execute_result"
    }
   ],
   "source": [
    "def update_theta(x, y, y_hat, b_0, theta_o, learning_rate):\n",
    "\n",
    "    db = (np.sum(y_hat-y)*2) /len(y)\n",
    "    dw = (np.dot((y_hat-y),x)*2) /len(y)\n",
    "    b_1 = b_0-learning_rate * db\n",
    "    theta_1 = theta_o-learning_rate * dw\n",
    "\n",
    "    return b_1, theta_1\n",
    "\n",
    "print(\"After initialization -Bias: \", b, \"theta: \", theta)\n",
    "\n",
    "Y_hat = predict_Y(b, theta, X)\n",
    "\n",
    "b, theta = update_theta(X, Y, Y_hat, b, theta, 0.01)\n",
    "print(\"After first update -Bias: \", b, \"theta: \", theta)\n",
    "get_cost(Y, Y_hat)"
   ]
  },
  {
   "cell_type": "markdown",
   "metadata": {},
   "source": [
    "Como podemos ver, a função de cust foi reduzida com o novo bias e weights. Atualmente o learning rate é de 0,001, agora tentaremos com 0,01 para ver se esse pode ser um learning rate melhor e mais ideal. "
   ]
  },
  {
   "cell_type": "markdown",
   "metadata": {},
   "source": [
    "Agora que criamos todas as funções necessárias, podemos criar uma função principal de gradiente descendente, que as executa para um número específico de iteração e nos encontra o bias e o weights ideias. Para esta implementação, estamos executando a função por 200 iterações."
   ]
  },
  {
   "cell_type": "code",
   "execution_count": 64,
   "metadata": {
    "vscode": {
     "languageId": "markdown"
    }
   },
   "outputs": [
    {
     "name": "stdout",
     "output_type": "stream",
     "text": [
      "Final Estimate of b and theta :  0.5623846652030714 [0.36592837 0.6577425  0.3077309 ]\n"
     ]
    }
   ],
   "source": [
    "def run_gradient_descent(X, Y, alpha, num_iterations):\n",
    "\n",
    "    b,theta = initialize(X.shape[1])\n",
    "    iter_num = 0\n",
    "    gd_iterations_df = pd.DataFrame(columns = [\"iteration\", \"cost\"])\n",
    "    result_idx = 0\n",
    "\n",
    "    for each_iter in range(num_iterations):\n",
    "        Y_hat = predict_Y(b, theta, X)\n",
    "        this_cost = get_cost(Y, Y_hat)\n",
    "        prev_b = b\n",
    "        prev_theta = theta\n",
    "        b,theta = update_theta(X, Y, Y_hat, prev_b, prev_theta, alpha)\n",
    "\n",
    "        if(iter_num % 10 == 0):\n",
    "            gd_iterations_df.loc[result_idx] = [iter_num,this_cost]\n",
    "            result_idx = result_idx + 1\n",
    "        iter_num += 1\n",
    "        \n",
    "    print(\"Final Estimate of b and theta : \", b, theta)\n",
    "    return gd_iterations_df, b, theta\n",
    "\n",
    "gd_iterations_df, b, theta = run_gradient_descent(X, Y, alpha = 0.001, num_iterations = 200)"
   ]
  },
  {
   "cell_type": "markdown",
   "metadata": {},
   "source": [
    "O theta é uma lista com 3 números, pois temos 3 inputs, TV, radio e newspaper. A cada iteração a função de custo diminui."
   ]
  },
  {
   "cell_type": "code",
   "execution_count": 65,
   "metadata": {
    "vscode": {
     "languageId": "markdown"
    }
   },
   "outputs": [
    {
     "data": {
      "text/html": [
       "<div>\n",
       "<style scoped>\n",
       "    .dataframe tbody tr th:only-of-type {\n",
       "        vertical-align: middle;\n",
       "    }\n",
       "\n",
       "    .dataframe tbody tr th {\n",
       "        vertical-align: top;\n",
       "    }\n",
       "\n",
       "    .dataframe thead th {\n",
       "        text-align: right;\n",
       "    }\n",
       "</style>\n",
       "<table border=\"1\" class=\"dataframe\">\n",
       "  <thead>\n",
       "    <tr style=\"text-align: right;\">\n",
       "      <th></th>\n",
       "      <th>iteration</th>\n",
       "      <th>cost</th>\n",
       "    </tr>\n",
       "  </thead>\n",
       "  <tbody>\n",
       "    <tr>\n",
       "      <th>0</th>\n",
       "      <td>0.0</td>\n",
       "      <td>1.440491</td>\n",
       "    </tr>\n",
       "    <tr>\n",
       "      <th>1</th>\n",
       "      <td>10.0</td>\n",
       "      <td>1.385871</td>\n",
       "    </tr>\n",
       "    <tr>\n",
       "      <th>2</th>\n",
       "      <td>20.0</td>\n",
       "      <td>1.333519</td>\n",
       "    </tr>\n",
       "    <tr>\n",
       "      <th>3</th>\n",
       "      <td>30.0</td>\n",
       "      <td>1.283339</td>\n",
       "    </tr>\n",
       "    <tr>\n",
       "      <th>4</th>\n",
       "      <td>40.0</td>\n",
       "      <td>1.235239</td>\n",
       "    </tr>\n",
       "  </tbody>\n",
       "</table>\n",
       "</div>"
      ],
      "text/plain": [
       "   iteration      cost\n",
       "0        0.0  1.440491\n",
       "1       10.0  1.385871\n",
       "2       20.0  1.333519\n",
       "3       30.0  1.283339\n",
       "4       40.0  1.235239"
      ]
     },
     "execution_count": 65,
     "metadata": {},
     "output_type": "execute_result"
    }
   ],
   "source": [
    "gd_iterations_df.head()"
   ]
  },
  {
   "cell_type": "code",
   "execution_count": 66,
   "metadata": {
    "vscode": {
     "languageId": "markdown"
    }
   },
   "outputs": [
    {
     "data": {
      "text/plain": [
       "Text(0, 0.5, 'Cost or MSE')"
      ]
     },
     "execution_count": 66,
     "metadata": {},
     "output_type": "execute_result"
    },
    {
     "data": {
      "image/png": "[encoded data removed]",
      "text/plain": [
       "<Figure size 432x288 with 1 Axes>"
      ]
     },
     "metadata": {
      "needs_background": "light"
     },
     "output_type": "display_data"
    }
   ],
   "source": [
    "plt.plot(gd_iterations_df[\"iteration\"], gd_iterations_df[\"cost\"])\n",
    "plt.xlabel(\"Number of iterations\")\n",
    "plt.ylabel(\"Cost or MSE\")"
   ]
  },
  {
   "cell_type": "markdown",
   "metadata": {},
   "source": [
    "Como podemos ver a função de custo diminui com o aumento das iterações, mas ainda não alcançamos a convergência. Agora, vamos tentar com α = 0.01 para 2000 iterações e comparar com α=0.001 e encontrar com learning rate é o melhor para esse dataset."
   ]
  },
  {
   "cell_type": "code",
   "execution_count": 67,
   "metadata": {
    "vscode": {
     "languageId": "markdown"
    }
   },
   "outputs": [
    {
     "name": "stdout",
     "output_type": "stream",
     "text": [
      "Final Estimate of b and theta :  -3.863757224794852e-17 [ 0.75306591  0.53648155 -0.00433069]\n",
      "Final Estimate of b and theta :  0.012979307196459117 [0.75476984 0.501681   0.02949561]\n"
     ]
    },
    {
     "data": {
      "text/plain": [
       "Text(0.5, 1.0, 'Cost Vs. Iterations for different alpha values')"
      ]
     },
     "execution_count": 67,
     "metadata": {},
     "output_type": "execute_result"
    },
    {
     "data": {
      "image/png": "[encoded data removed]",
      "text/plain": [
       "<Figure size 432x288 with 1 Axes>"
      ]
     },
     "metadata": {
      "needs_background": "light"
     },
     "output_type": "display_data"
    }
   ],
   "source": [
    "alpha_df_1, b, theta = run_gradient_descent(X, Y, alpha = 0.01, num_iterations = 2000)\n",
    "alpha_df_2, b, theta = run_gradient_descent(X, Y, alpha = 0.001, num_iterations = 2000)\n",
    "plt.plot(alpha_df_1[\"iteration\"], alpha_df_1[\"cost\"], label = \"alpha = 0.01\")\n",
    "plt.plot(alpha_df_2[\"iteration\"], alpha_df_2[\"cost\"], label = \"alpha = 0.001\")\n",
    "plt.legend()\n",
    "plt.ylabel(\"cost\")\n",
    "plt.xlabel(\"Number of iterations\")\n",
    "plt.title(\"Cost Vs. Iterations for different alpha values\")"
   ]
  },
  {
   "cell_type": "markdown",
   "metadata": {},
   "source": [
    "Como podemos ver 0,01 (azul) é o learning rate mais ideal, pois converge muito mais rápido que 0,001 (laranja). O learning rate em azul converge em torno de 100 iterações, enquanto o learning rate em laranja converge em torno de 1000 iterações. "
   ]
  },
  {
   "cell_type": "markdown",
   "metadata": {},
   "source": [
    "- Conclusão: o algoritmo de gradiente descendente foi construído com sucesso. \n",
    "- Lembrete: o learning rate será diferente para cada conjunto de dados. "
   ]
  }
 ],
 "metadata": {
  "kernelspec": {
   "display_name": "Python 3.10.5 64-bit (windows store)",
   "language": "python",
   "name": "python3"
  },
  "language_info": {
   "codemirror_mode": {
    "name": "ipython",
    "version": 3
   },
   "file_extension": ".py",
   "mimetype": "text/x-python",
   "name": "python",
   "nbconvert_exporter": "python",
   "pygments_lexer": "ipython3",
   "version": "3.10.5"
  },
  "orig_nbformat": 4,
  "vscode": {
   "interpreter": {
    "hash": "ab4020b22aa0af336a18b3a77a18a4a6f563ef6e3d818e14ea4f4432fff65fa3"
   }
  }
 },
 "nbformat": 4,
 "nbformat_minor": 2
}
